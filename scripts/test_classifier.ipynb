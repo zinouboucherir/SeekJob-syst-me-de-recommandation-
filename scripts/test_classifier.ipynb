{
  "nbformat": 4,
  "nbformat_minor": 0,
  "metadata": {
    "colab": {
      "name": "test classifier.ipynb",
      "provenance": []
    },
    "kernelspec": {
      "name": "python3",
      "display_name": "Python 3"
    },
    "language_info": {
      "name": "python"
    }
  },
  "cells": [
    {
      "cell_type": "code",
      "source": [
        "import pickle\n",
        "import nltk\n",
        "nltk.download('punkt')"
      ],
      "metadata": {
        "colab": {
          "base_uri": "https://localhost:8080/"
        },
        "id": "yd1AY-arldqh",
        "outputId": "7af773de-4c43-4d8d-fb91-720c54811d6c"
      },
      "execution_count": null,
      "outputs": [
        {
          "output_type": "stream",
          "name": "stdout",
          "text": [
            "[nltk_data] Downloading package punkt to /root/nltk_data...\n",
            "[nltk_data]   Unzipping tokenizers/punkt.zip.\n"
          ]
        },
        {
          "output_type": "execute_result",
          "data": {
            "text/plain": [
              "True"
            ]
          },
          "metadata": {},
          "execution_count": 13
        }
      ]
    },
    {
      "cell_type": "code",
      "execution_count": null,
      "metadata": {
        "id": "7LLenjAFkY7R"
      },
      "outputs": [],
      "source": [
        "# load the model from disk\n",
        "loaded_model = pickle.load(open('/content/drive/MyDrive/Colab Notebooks/NLTK_classification_Resume/NBclassifier.pickle', 'rb'))\n"
      ]
    },
    {
      "cell_type": "code",
      "source": [
        "loaded_model.show_most_informative_features(15)"
      ],
      "metadata": {
        "colab": {
          "base_uri": "https://localhost:8080/"
        },
        "id": "m5SC_8almsAz",
        "outputId": "1d7fe3c9-0fb4-4516-a8ba-8d3af16f4247"
      },
      "execution_count": null,
      "outputs": [
        {
          "output_type": "stream",
          "name": "stdout",
          "text": [
            "Most Informative Features\n",
            "                 january = True           Experi : Skills =    124.8 : 1.0\n",
            "                  system = True           Experi : Title  =    122.0 : 1.0\n",
            "                     new = True           Experi : Title  =    121.3 : 1.0\n",
            "                    year = True           Skills : Educat =    105.2 : 1.0\n",
            "                   https = True            Other : Skills =    104.9 : 1.0\n",
            "                 license = True            Other : Skills =    101.0 : 1.0\n",
            "                  indeed = True            Other : Skills =    101.0 : 1.0\n",
            "                 seekers = True            Other : Skills =    101.0 : 1.0\n",
            "             assessments = True            Other : Skills =    101.0 : 1.0\n",
            "                services = True           Experi : Title  =     93.3 : 1.0\n",
            "                     may = True           Experi : Skills =     91.5 : 1.0\n",
            "                  august = True           Experi : Skills =     87.1 : 1.0\n",
            "             development = True           Experi : Educat =     85.4 : 1.0\n",
            "                  states = True            Other : Skills =     82.0 : 1.0\n",
            "                engineer = True            Title : Educat =     78.6 : 1.0\n"
          ]
        }
      ]
    },
    {
      "cell_type": "code",
      "source": [
        "# load the model from disk\n",
        "word_features = pickle.load(open('/content/drive/MyDrive/Colab Notebooks/NLTK_classification_Resume/word_features.pickle', 'rb'))\n"
      ],
      "metadata": {
        "id": "IeBYFcffoCHG"
      },
      "execution_count": null,
      "outputs": []
    },
    {
      "cell_type": "code",
      "source": [
        "from nltk.tokenize import word_tokenize\n",
        "\n",
        "def get_features(document,word_features):\n",
        "    words = set(word_tokenize(str(document)))\n",
        "    words = [word_lower.lower() for word_lower in words]\n",
        "    features = {}\n",
        "    for word in word_features:\n",
        "        features[word] = word in words\n",
        "    return features"
      ],
      "metadata": {
        "id": "Ekpl0YtOoSMq"
      },
      "execution_count": null,
      "outputs": []
    },
    {
      "cell_type": "code",
      "source": [
        "loaded_model.classify(get_features(\n",
        "    \"This Python 3 environment comes with many helpful analytics libraries installed\",\n",
        "    word_features\n",
        "    )\n",
        ")"
      ],
      "metadata": {
        "colab": {
          "base_uri": "https://localhost:8080/",
          "height": 35
        },
        "id": "b6ldoUM-mxNn",
        "outputId": "68c4abfc-efb0-4e97-9fbb-31c4a55e0626"
      },
      "execution_count": null,
      "outputs": [
        {
          "output_type": "execute_result",
          "data": {
            "text/plain": [
              "'Title'"
            ],
            "application/vnd.google.colaboratory.intrinsic+json": {
              "type": "string"
            }
          },
          "metadata": {},
          "execution_count": 14
        }
      ]
    },
    {
      "cell_type": "code",
      "source": [
        ""
      ],
      "metadata": {
        "id": "jPB6M7nDotW0"
      },
      "execution_count": null,
      "outputs": []
    }
  ]
}